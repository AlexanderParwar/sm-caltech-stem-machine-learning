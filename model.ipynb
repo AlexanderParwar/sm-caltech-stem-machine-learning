{
 "cells": [
  {
   "cell_type": "markdown",
   "source": [
    "# Caltech STEM Machine Learning Model"
   ],
   "metadata": {
    "collapsed": false
   }
  },
  {
   "cell_type": "code",
   "execution_count": 8,
   "outputs": [],
   "source": [
    "import tensorflow as tf"
   ],
   "metadata": {
    "collapsed": false,
    "pycharm": {
     "name": "#%%\n"
    }
   }
  },
  {
   "cell_type": "code",
   "execution_count": 9,
   "outputs": [
    {
     "data": {
      "text/plain": "'2.7.0'"
     },
     "execution_count": 5,
     "metadata": {},
     "output_type": "execute_result"
    },
    {
     "data": {
      "text/plain": "'2.7.0'"
     },
     "execution_count": 9,
     "metadata": {},
     "output_type": "execute_result"
    }
   ],
   "source": [
    "tf.__version__"
   ],
   "metadata": {
    "collapsed": false,
    "pycharm": {
     "name": "#%%\n"
    }
   }
  },
  {
   "cell_type": "code",
   "execution_count": 10,
   "outputs": [
    {
     "name": "stdout",
     "output_type": "stream",
     "text": [
      "Collecting git+https://github.com/tensorflow/docs\r\n",
      "  Cloning https://github.com/tensorflow/docs to /private/var/folders/6d/z_kcw4m17579w78q7fzm6wh00000gr/T/pip-req-build-hcelqo1h\r\n",
      "  Running command git clone -q https://github.com/tensorflow/docs /private/var/folders/6d/z_kcw4m17579w78q7fzm6wh00000gr/T/pip-req-build-hcelqo1h\r\n",
      "Collecting astor\r\n",
      "  Using cached astor-0.8.1-py2.py3-none-any.whl (27 kB)\r\n",
      "Requirement already satisfied: absl-py in ./venv/lib/python3.8/site-packages (from tensorflow-docs==0.0.0.dev0) (1.0.0)\r\n",
      "Requirement already satisfied: jinja2 in ./venv/lib/python3.8/site-packages (from tensorflow-docs==0.0.0.dev0) (3.0.3)\r\n",
      "Requirement already satisfied: protobuf>=3.14 in ./venv/lib/python3.8/site-packages (from tensorflow-docs==0.0.0.dev0) (3.19.3)\r\n",
      "Collecting pyyaml\r\n",
      "  Downloading PyYAML-6.0-cp38-cp38-macosx_10_9_x86_64.whl (192 kB)\r\n",
      "\u001B[K     |████████████████████████████████| 192 kB 3.2 MB/s eta 0:00:01\r\n",
      "\u001B[?25hRequirement already satisfied: six in ./venv/lib/python3.8/site-packages (from absl-py->tensorflow-docs==0.0.0.dev0) (1.16.0)\r\n",
      "Requirement already satisfied: MarkupSafe>=2.0 in ./venv/lib/python3.8/site-packages (from jinja2->tensorflow-docs==0.0.0.dev0) (2.0.1)\r\n",
      "Building wheels for collected packages: tensorflow-docs\r\n",
      "  Building wheel for tensorflow-docs (setup.py) ... \u001B[?25ldone\r\n",
      "\u001B[?25h  Created wheel for tensorflow-docs: filename=tensorflow_docs-0.0.0.dev0-py3-none-any.whl size=169380 sha256=b76aed599773090651759734468bb6e634e53b423d92f54429a8bac569104c30\r\n",
      "  Stored in directory: /private/var/folders/6d/z_kcw4m17579w78q7fzm6wh00000gr/T/pip-ephem-wheel-cache-24rogt9s/wheels/3b/ee/a2/ab4d36a9a4af495bcb936f3e849d4b497b65fa40548a68d6c3\r\n",
      "Successfully built tensorflow-docs\r\n",
      "Installing collected packages: pyyaml, astor, tensorflow-docs\r\n",
      "Successfully installed astor-0.8.1 pyyaml-6.0 tensorflow-docs-0.0.0.dev0\r\n",
      "\u001B[33mWARNING: You are using pip version 21.1.2; however, version 21.3.1 is available.\r\n",
      "You should consider upgrading via the '/Users/srinivasan/Documents/Projects/sm-caltech-stem-machine-learning/venv/bin/python -m pip install --upgrade pip' command.\u001B[0m\r\n",
      "Collecting git+https://github.com/tensorflow/docs\r\n",
      "  Cloning https://github.com/tensorflow/docs to /private/var/folders/6d/z_kcw4m17579w78q7fzm6wh00000gr/T/pip-req-build-c1to02wq\r\n",
      "  Running command git clone -q https://github.com/tensorflow/docs /private/var/folders/6d/z_kcw4m17579w78q7fzm6wh00000gr/T/pip-req-build-c1to02wq\r\n",
      "Requirement already satisfied: astor in ./venv/lib/python3.8/site-packages (from tensorflow-docs==0.0.0.dev0) (0.8.1)\r\n",
      "Requirement already satisfied: absl-py in ./venv/lib/python3.8/site-packages (from tensorflow-docs==0.0.0.dev0) (1.0.0)\r\n",
      "Requirement already satisfied: jinja2 in ./venv/lib/python3.8/site-packages (from tensorflow-docs==0.0.0.dev0) (3.0.3)\r\n",
      "Requirement already satisfied: protobuf>=3.14 in ./venv/lib/python3.8/site-packages (from tensorflow-docs==0.0.0.dev0) (3.19.3)\r\n",
      "Requirement already satisfied: pyyaml in ./venv/lib/python3.8/site-packages (from tensorflow-docs==0.0.0.dev0) (6.0)\r\n",
      "Requirement already satisfied: six in ./venv/lib/python3.8/site-packages (from absl-py->tensorflow-docs==0.0.0.dev0) (1.16.0)\r\n",
      "Requirement already satisfied: MarkupSafe>=2.0 in ./venv/lib/python3.8/site-packages (from jinja2->tensorflow-docs==0.0.0.dev0) (2.0.1)\r\n",
      "\u001B[33mWARNING: You are using pip version 21.1.2; however, version 21.3.1 is available.\r\n",
      "You should consider upgrading via the '/Users/srinivasan/Documents/Projects/sm-caltech-stem-machine-learning/venv/bin/python -m pip install --upgrade pip' command.\u001B[0m\r\n"
     ]
    }
   ],
   "source": [
    "!pip install git+https://github.com/tensorflow/docs"
   ],
   "metadata": {
    "collapsed": false,
    "pycharm": {
     "name": "#%%\n"
    }
   }
  },
  {
   "cell_type": "code",
   "execution_count": 11,
   "outputs": [],
   "source": [
    "import matplotlib.pyplot as plt\n",
    "import numpy as np\n",
    "from tensorflow.keras import layers"
   ],
   "metadata": {
    "collapsed": false,
    "pycharm": {
     "name": "#%%\n"
    }
   }
  }
 ],
 "metadata": {
  "accelerator": "GPU",
  "colab": {
   "collapsed_sections": [],
   "name": "dcgan.ipynb",
   "toc_visible": true
  },
  "kernelspec": {
   "display_name": "Python 3",
   "name": "python3"
  },
  "language_info": {
   "codemirror_mode": {
    "name": "ipython",
    "version": 3
   },
   "file_extension": ".py",
   "mimetype": "text/x-python",
   "name": "python",
   "nbconvert_exporter": "python",
   "pygments_lexer": "ipython3",
   "version": "3.9.5"
  }
 },
 "nbformat": 4,
 "nbformat_minor": 0
}